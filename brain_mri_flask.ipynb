{
  "nbformat": 4,
  "nbformat_minor": 0,
  "metadata": {
    "colab": {
      "name": "brain-mri-flask.ipynb",
      "provenance": [],
      "collapsed_sections": [],
      "authorship_tag": "ABX9TyOhKIFDBWdUXbL9FqTyPlmo",
      "include_colab_link": true
    },
    "kernelspec": {
      "name": "python3",
      "display_name": "Python 3"
    },
    "language_info": {
      "name": "python"
    }
  },
  "cells": [
    {
      "cell_type": "markdown",
      "metadata": {
        "id": "view-in-github",
        "colab_type": "text"
      },
      "source": [
        "<a href=\"https://colab.research.google.com/github/dikshabhati1/Brain-MRI-Segmentation/blob/main/brain_mri_flask.ipynb\" target=\"_parent\"><img src=\"https://colab.research.google.com/assets/colab-badge.svg\" alt=\"Open In Colab\"/></a>"
      ]
    },
    {
      "cell_type": "code",
      "metadata": {
        "id": "HiZ0zj6m9WpE",
        "colab": {
          "base_uri": "https://localhost:8080/"
        },
        "outputId": "a0baee30-c4f6-4f3f-dc44-c0cbd8095733"
      },
      "source": [
        "!pip install flask-ngrok"
      ],
      "execution_count": 8,
      "outputs": [
        {
          "output_type": "stream",
          "text": [
            "Collecting flask-ngrok\n",
            "  Downloading https://files.pythonhosted.org/packages/af/6c/f54cb686ad1129e27d125d182f90f52b32f284e6c8df58c1bae54fa1adbc/flask_ngrok-0.0.25-py3-none-any.whl\n",
            "Requirement already satisfied: requests in /usr/local/lib/python3.7/dist-packages (from flask-ngrok) (2.23.0)\n",
            "Requirement already satisfied: Flask>=0.8 in /usr/local/lib/python3.7/dist-packages (from flask-ngrok) (1.1.4)\n",
            "Requirement already satisfied: urllib3!=1.25.0,!=1.25.1,<1.26,>=1.21.1 in /usr/local/lib/python3.7/dist-packages (from requests->flask-ngrok) (1.24.3)\n",
            "Requirement already satisfied: certifi>=2017.4.17 in /usr/local/lib/python3.7/dist-packages (from requests->flask-ngrok) (2020.12.5)\n",
            "Requirement already satisfied: chardet<4,>=3.0.2 in /usr/local/lib/python3.7/dist-packages (from requests->flask-ngrok) (3.0.4)\n",
            "Requirement already satisfied: idna<3,>=2.5 in /usr/local/lib/python3.7/dist-packages (from requests->flask-ngrok) (2.10)\n",
            "Requirement already satisfied: Jinja2<3.0,>=2.10.1 in /usr/local/lib/python3.7/dist-packages (from Flask>=0.8->flask-ngrok) (2.11.3)\n",
            "Requirement already satisfied: click<8.0,>=5.1 in /usr/local/lib/python3.7/dist-packages (from Flask>=0.8->flask-ngrok) (7.1.2)\n",
            "Requirement already satisfied: itsdangerous<2.0,>=0.24 in /usr/local/lib/python3.7/dist-packages (from Flask>=0.8->flask-ngrok) (1.1.0)\n",
            "Requirement already satisfied: Werkzeug<2.0,>=0.15 in /usr/local/lib/python3.7/dist-packages (from Flask>=0.8->flask-ngrok) (1.0.1)\n",
            "Requirement already satisfied: MarkupSafe>=0.23 in /usr/local/lib/python3.7/dist-packages (from Jinja2<3.0,>=2.10.1->Flask>=0.8->flask-ngrok) (2.0.1)\n",
            "Installing collected packages: flask-ngrok\n",
            "Successfully installed flask-ngrok-0.0.25\n"
          ],
          "name": "stdout"
        }
      ]
    },
    {
      "cell_type": "code",
      "metadata": {
        "id": "KQDOLV-g9bLU"
      },
      "source": [
        "from flask_ngrok import run_with_ngrok\n",
        "from flask import Flask"
      ],
      "execution_count": 9,
      "outputs": []
    },
    {
      "cell_type": "code",
      "metadata": {
        "id": "v47p-5Tv9l1a",
        "colab": {
          "base_uri": "https://localhost:8080/"
        },
        "outputId": "0b80407a-2c20-4cb0-b316-8b123216ec1b"
      },
      "source": [
        "! pip install flask_cors"
      ],
      "execution_count": 2,
      "outputs": [
        {
          "output_type": "stream",
          "text": [
            "Collecting flask_cors\n",
            "  Downloading https://files.pythonhosted.org/packages/db/84/901e700de86604b1c4ef4b57110d4e947c218b9997adf5d38fa7da493bce/Flask_Cors-3.0.10-py2.py3-none-any.whl\n",
            "Requirement already satisfied: Flask>=0.9 in /usr/local/lib/python3.7/dist-packages (from flask_cors) (1.1.4)\n",
            "Requirement already satisfied: Six in /usr/local/lib/python3.7/dist-packages (from flask_cors) (1.15.0)\n",
            "Requirement already satisfied: click<8.0,>=5.1 in /usr/local/lib/python3.7/dist-packages (from Flask>=0.9->flask_cors) (7.1.2)\n",
            "Requirement already satisfied: Jinja2<3.0,>=2.10.1 in /usr/local/lib/python3.7/dist-packages (from Flask>=0.9->flask_cors) (2.11.3)\n",
            "Requirement already satisfied: Werkzeug<2.0,>=0.15 in /usr/local/lib/python3.7/dist-packages (from Flask>=0.9->flask_cors) (1.0.1)\n",
            "Requirement already satisfied: itsdangerous<2.0,>=0.24 in /usr/local/lib/python3.7/dist-packages (from Flask>=0.9->flask_cors) (1.1.0)\n",
            "Requirement already satisfied: MarkupSafe>=0.23 in /usr/local/lib/python3.7/dist-packages (from Jinja2<3.0,>=2.10.1->Flask>=0.9->flask_cors) (2.0.1)\n",
            "Installing collected packages: flask-cors\n",
            "Successfully installed flask-cors-3.0.10\n"
          ],
          "name": "stdout"
        }
      ]
    },
    {
      "cell_type": "code",
      "metadata": {
        "id": "XSXgQFZo-V19"
      },
      "source": [
        "%mkdir templates -p\n",
        "%mkdir static -p"
      ],
      "execution_count": 10,
      "outputs": []
    },
    {
      "cell_type": "code",
      "metadata": {
        "id": "O349Sq64Dahw"
      },
      "source": [
        "%mkdir uploads -p"
      ],
      "execution_count": 11,
      "outputs": []
    },
    {
      "cell_type": "code",
      "metadata": {
        "id": "ioBSBXewEtoF"
      },
      "source": [
        "%mkdir static/images -p"
      ],
      "execution_count": 5,
      "outputs": []
    },
    {
      "cell_type": "code",
      "metadata": {
        "id": "fPgvq8UmBdcK"
      },
      "source": [
        "%mkdir static/css -p\n",
        "%mkdir static/js -p\n",
        "%mkdir static/style -p\n"
      ],
      "execution_count": 12,
      "outputs": []
    },
    {
      "cell_type": "code",
      "metadata": {
        "colab": {
          "base_uri": "https://localhost:8080/"
        },
        "id": "IHoo7EzyB3hb",
        "outputId": "30398945-b1e2-4437-9109-a129024dc118"
      },
      "source": [
        "%%writefile static/js/main.js \n",
        "$(document).ready(function () {\n",
        "    // Init\n",
        "    $('.image-section').hide();\n",
        "    $('.loader').hide();\n",
        "    $('#result').hide();\n",
        "\n",
        "    // Upload Preview\n",
        "    function readURL(input) {\n",
        "        if (input.files && input.files[0]) {\n",
        "            var reader = new FileReader();\n",
        "            reader.onload = function (e) {\n",
        "                $('#imagePreview').css('background-image', 'url(' + e.target.result + ')');\n",
        "                $('#imagePreview').hide();\n",
        "                $('#imagePreview').fadeIn(650);\n",
        "            }\n",
        "            reader.readAsDataURL(input.files[0]);\n",
        "        }\n",
        "    }\n",
        "    $(\"#imageUpload\").change(function () {\n",
        "        $('.image-section').show();\n",
        "        $('#btn-predict').show();\n",
        "        $('#result').text('');\n",
        "        $('#result').hide();\n",
        "        readURL(this);\n",
        "    });\n",
        "\n",
        "    // Predict\n",
        "    $('#btn-predict').click(function () {\n",
        "        var form_data = new FormData($('#upload-file')[0]);\n",
        "\n",
        "        // Show loading animation\n",
        "        $(this).hide();\n",
        "        $('.loader').show();\n",
        "\n",
        "        // Make prediction by calling api /predict\n",
        "        $.ajax({\n",
        "            type: 'POST',\n",
        "            url: '/predict',\n",
        "            data: form_data,\n",
        "            contentType: false,\n",
        "            cache: false,\n",
        "            processData: false,\n",
        "            async: true,\n",
        "            success: function (data) {\n",
        "                // Get and display the result\n",
        "                $('.loader').hide();\n",
        "                $('#result').fadeIn(600);\n",
        "                $('#result').text('Prediction : '+data);\n",
        "                console.log('Success!');\n",
        "            },\n",
        "        });\n",
        "    });\n",
        "\n",
        "});"
      ],
      "execution_count": 13,
      "outputs": [
        {
          "output_type": "stream",
          "text": [
            "Writing static/js/main.js\n"
          ],
          "name": "stdout"
        }
      ]
    },
    {
      "cell_type": "code",
      "metadata": {
        "colab": {
          "base_uri": "https://localhost:8080/"
        },
        "id": "adeVFxAvBNdU",
        "outputId": "b60cc7bc-b5a1-4b8b-ca21-98817a8543b5"
      },
      "source": [
        "%%writefile static/css/main2.css\n",
        ".img-preview {\n",
        "    width: 256px;\n",
        "    height: 256px;\n",
        "    position: relative;\n",
        "    border: 5px solid #F8F8F8;\n",
        "    box-shadow: 0px 2px 4px 0px rgba(0, 0, 0, 0.1);\n",
        "    margin-top: 1em;\n",
        "    margin-bottom: 1em;    \n",
        "}\n",
        "\n",
        ".img-preview>div {\n",
        "    width: 100%;\n",
        "    height: 100%;\n",
        "    background-size: 256px 256px;\n",
        "    background-repeat: no-repeat;\n",
        "    background-position: center;\n",
        "}\n",
        "\n",
        "input[type=\"file\"] {\n",
        "    display: none;\n",
        "}\n",
        "\n",
        ".upload-label{\n",
        "    display: inline-block;\n",
        "    padding: 12px 30px;\n",
        "    background: #ab0032;\n",
        "    color: #fff;\n",
        "    font-size: 1em;\n",
        "    transition: all .4s;\n",
        "    cursor: pointer;\n",
        "\tfont-weight:bold;\n",
        "}\n",
        "\n",
        ".upload-label:hover{\n",
        "    background: #f7403c;\n",
        "    color: #39D2B4;\n",
        "\tfont-weight:bold;\n",
        "}\n",
        "\n",
        ".loader {\n",
        "    border: 8px solid #f3f3f3; /* Light grey */\n",
        "    border-top: 8px solid #3498db; /* Blue */\n",
        "    border-radius: 50%;\n",
        "    width: 50px;\n",
        "    height: 50px;\n",
        "    animation: spin 1s linear infinite;\n",
        "}\n",
        "\n",
        "@keyframes spin {\n",
        "    0% { transform: rotate(0deg); }\n",
        "    100% { transform: rotate(360deg); }\n",
        "}"
      ],
      "execution_count": 15,
      "outputs": [
        {
          "output_type": "stream",
          "text": [
            "Writing static/css/main2.css\n"
          ],
          "name": "stdout"
        }
      ]
    },
    {
      "cell_type": "code",
      "metadata": {
        "colab": {
          "base_uri": "https://localhost:8080/"
        },
        "id": "Me3oXSpm-sHk",
        "outputId": "94682a8a-59ee-4911-ec9d-fe16124e80a0"
      },
      "source": [
        "%%writefile templates/brainpred2.html\n",
        "\n",
        "<html lang=\"en\">\n",
        "\n",
        "<head>\n",
        "    <meta charset=\"UTF-8\">\n",
        "    <meta name=\"viewport\" content=\"width=device-width, initial-scale=1.0\">\n",
        "    <meta http-equiv=\"X-UA-Compatible\" content=\"ie=edge\">\n",
        "    <title>Brain Tumor Detection</title>\n",
        "    <link href=\"https://cdn.bootcss.com/bootstrap/4.0.0/css/bootstrap.min.css\" rel=\"stylesheet\">\n",
        "    <script src=\"https://cdn.bootcss.com/popper.js/1.12.9/umd/popper.min.js\"></script>\n",
        "    <script src=\"https://cdn.bootcss.com/jquery/3.3.1/jquery.min.js\"></script>\n",
        "    <script src=\"https://cdn.bootcss.com/bootstrap/4.0.0/js/bootstrap.min.js\"></script>\n",
        "    <link href=\"{{ url_for('static', filename='css/main2.css') }}\" rel=\"stylesheet\"> \n",
        " \n",
        "\t<style>\n",
        "\t.bg-dark3 {\n",
        "\t\tbackground-color:#494949;\t\t\n",
        "\t}\n",
        "\t#result {\n",
        "\t\tcolor: #0a1c4ed1;\n",
        "\t}\n",
        "\t.img-preview {\n",
        "    width: 200px;\n",
        "    height: 200px;\n",
        "    position: relative;\n",
        "    border: 5px solid #F8F8F8;\n",
        "    box-shadow: 0px 2px 4px 0px rgba(0, 0, 0, 0.1);\n",
        "    margin-top: 1em;\n",
        "    margin-bottom: 1em;    \n",
        "}\n",
        "\n",
        ".img-preview>div {\n",
        "    width:200px;\n",
        "    height:200px;\n",
        "    background-size: 204px 204px;\n",
        "    background-repeat: no-repeat;\n",
        "    background-position: center;\n",
        "}\n",
        "\n",
        "input[type=\"file\"] {\n",
        "    display: none;\n",
        "}\n",
        "\n",
        ".upload-label{\n",
        "    display: inline-block;\n",
        "    padding: 12px 30px;\n",
        "    background: white;\n",
        "    color: black;\n",
        "    font-size: 1em;\n",
        "    transition: all .4s;\n",
        "    cursor: pointer;\n",
        "\tfont-weight:bold;\n",
        "    border-radius:20%;\n",
        "}\n",
        "\n",
        ".upload-label:hover{\n",
        "    background: white;\n",
        "    color: black;\n",
        "\tfont-weight:bold;\n",
        "}\n",
        "\n",
        ".loader {\n",
        "    border: 8px solid #f3f3f3; /* Light grey */\n",
        "    border-top: 8px solid #3498db; /* Blue */\n",
        "    border-radius: 50%;\n",
        "    width: 50px;\n",
        "    height: 50px;\n",
        "    animation: spin 1s linear infinite;\n",
        "}\n",
        "\n",
        "@keyframes spin {\n",
        "    0% { transform: rotate(0deg); }\n",
        "    100% { transform: rotate(360deg); }\n",
        "}\n",
        "\tinput { \n",
        "\twidth:80%; \n",
        "\tmargin-bottom: 20px; \n",
        "\tbackground: white;\n",
        "\toutline: none;\n",
        "\tpadding: 10px;\n",
        "\tfont-size: 13px;\n",
        "\tcolor: black;\n",
        "\ttext-shadow: white;\n",
        "\tborder: 10px #304040;\n",
        "\tborder-radius: 40px;\n",
        "\tbox-shadow: white;\n",
        "}\n",
        "\n",
        ".upload-label:hover {\n",
        "  animation: bn54rotate 0.7s ease-in-out both;\n",
        "}\n",
        "\n",
        "@keyframes bn54rotate {\n",
        "  0% {\n",
        "    transform: rotate(0deg) translate3d(0, 0, 0);\n",
        "  }\n",
        "  25% {\n",
        "    transform: rotate(3deg) translate3d(0, 0, 0);\n",
        "  }\n",
        "  50% {\n",
        "    transform: rotate(-3deg) translate3d(0, 0, 0);\n",
        "  }\n",
        "  75% {\n",
        "    transform: rotate(1deg) translate3d(0, 0, 0);\n",
        "  }\n",
        "  100% {\n",
        "    transform: rotate(0deg) translate3d(0, 0, 0);\n",
        "  }\n",
        "}\n",
        "\t</style>\n",
        "</head>\n",
        "\n",
        "<body style=\"background-color:#010203;font-family:Georgia, serif;\">\n",
        "    <nav class=\"navbar navbar-dark bg-dark3\">\n",
        "        <div class=\"container\" style=\"font-size:30px;color:white;\">\n",
        "            Detect the Tumor in the MRI\n",
        "        </div>\n",
        "    </nav>\n",
        "    <div  style=\"background-image:url(); background-repeat:no-repeat;background-size: contain;\">\n",
        "        <div id=\"content\" style=\"margin-top:2em;\">\n",
        "\t\t<div class=\"container\">\n",
        "\t\t  <div class=\"row\" >\n",
        "\t\t\t<div class=\"col-sm-6 bd\" >\n",
        "\t\t\t\t<img src=\"{{url_for('static',filename='images/neural.gif')}}\" style=\"height:150%; width:100%;\" class=\"img-rounded\" alt=\"Gesture\">       \n",
        "\t\t\t</div>\n",
        "\t\t\t<div class=\"col-sm-6\" style=\"\n",
        "            height:400px;\n",
        "            width:400px;\n",
        "            margin:0px;\n",
        "            top:12%;\n",
        "\t\t\tbottom:50%;\n",
        "\t\t\tleft:60%;\n",
        "\t\t\tright:20%;\n",
        "\t\t\tposition: fixed;\n",
        "            align-items:center;\n",
        "            justify-content:center;\n",
        "            box-shadow:10px 10px 10px rgba(0,0,0,.05)\n",
        "\t\t\tfont-family:Georgia, serif;\n",
        "\t\t\tcolor:white;\n",
        "\t\t\tfont-size:20px;\n",
        "\t\t\ttext-align:justify;\n",
        "\t\t\tbackground-color:#5691e3;\n",
        "            border-radius: 5%;\">\n",
        "\n",
        "\n",
        "\t\t\t\t<div style=\"color:white;\">\n",
        "\t\t\t\t\t<h4>Drop the Brain MRI!</h4><br>\n",
        "\t\t\t<form action = \"http://localhost:5000/predict\" id=\"upload-file\" method=\"post\" enctype=\"multipart/form-data\">\n",
        "\t\t\t\t<input type=\"text\" name=\"name\" placeholder=\"Enter patient's name\" required ><br>\n",
        "\t\t\t\t<input type=\"text\" name=\"age\" placeholder=\"Enter patient's age\" required> <br>\n",
        "\t\t\t\t<label for=\"imageUpload\" class=\"upload-label\">\n",
        "\t\t\t\t\tChoose...\n",
        "\t\t\t\t</label>\n",
        "\t\t\t\t<input type=\"file\" name=\"image\" id=\"imageUpload\" accept=\".png, .jpg, .jpeg\">\n",
        "\t\t\t</form>\n",
        "\t\t\t\n",
        "\n",
        "\t\t\t<div class=\"image-section\" style=\"display:none;color:white;\">\n",
        "\t\t\t\t<div class=\"img-preview\">\n",
        "\t\t\t\t\t<div id=\"imagePreview\">\n",
        "\t\t\t\t\t</div>\n",
        "\t\t\t\t</div>\n",
        "\t\t\t\t<div>\n",
        "\t\t\t\t\t<button type=\"button\" class=\"btn btn-info btn-lg \" id=\"btn-predict\" style=\"background: white; font-weight:bold; color:black; border:white;\">Predict!</button>\n",
        "\t\t\t\t</div>\n",
        "\t\t\t</div>\n",
        "\n",
        "\t\t\t<div class=\"loader\" style=\"display:none;\"></div>\n",
        "\n",
        "\t\t\t<h3>\n",
        "\t\t\t\t<span id=\"result\" style=\"color:white;\"> </span>\n",
        "\t\t\t</h3>\n",
        "\n",
        "\t\t</div>\n",
        "\t\t\t</div>\n",
        "\t\t\t \n",
        "\t\t  </div>\n",
        "\t\t</div>\n",
        "\t\t</div>\n",
        "    </div>\n",
        "</body>\n",
        "\n",
        "<footer>\n",
        "    <!script src=\"‪F:\\Projects\\Brain Tumor Detection\\static\\js\\main.js\" type=\"text/javascript\"></script>    \n",
        "    <script src=\"{{ url_for('static', filename='js/main.js') }}\" type=\"text/javascript\"></script>    \n",
        "</footer>\n",
        "\n",
        "</html>"
      ],
      "execution_count": 22,
      "outputs": [
        {
          "output_type": "stream",
          "text": [
            "Overwriting templates/brainpred2.html\n"
          ],
          "name": "stdout"
        }
      ]
    },
    {
      "cell_type": "code",
      "metadata": {
        "colab": {
          "base_uri": "https://localhost:8080/"
        },
        "id": "3reqtlnF-ePc",
        "outputId": "7e312d41-87db-4bb8-8139-245dc0497c73"
      },
      "source": [
        "%%writefile templates/brainintro.html\n",
        "<html>\n",
        "\t<head>\n",
        "\t<title>Brain Tumor Detection</title>\n",
        "\t<style>\n",
        "    body{background:#010203;}\n",
        "\t\t.header {\t\n",
        "\t\t\ttop:0px;\t\n",
        "\t\t\tmargin:0px;\n",
        "\t\t\tleft: 0px;\n",
        "\t\t\tright: 0px;\n",
        "\t\t\tposition: fixed;\n",
        "\t\t\tbackground: #494949;\n",
        "\t\t\tcolor: white;\n",
        "\t\t\toverflow: hidden;\n",
        "\t\t\tpadding-bottom: 30px;\n",
        "\t\t\tfont-size: 2.25vw;\n",
        "\t\t\twidth: 100%;\n",
        "\t\t\tpadding-left:0px;\n",
        "\t\t\ttext-align: center;\n",
        "\t\t\tpadding-top:15px;\n",
        "\t\t}\n",
        "\t\t.second{\n",
        "\t\t\ttop:70px;\n",
        "\t\t\tbottom:0px;\n",
        "\t\t\tmargin:0px;\n",
        "\t\t\tleft: 0px;\n",
        "\t\t\tright: 0%;\n",
        "\t\t\tposition: fixed;\n",
        "\t\t\tpadding: 0px;\n",
        "\t\t\twidth: 50%;\n",
        "\t\t\theight:100%;\n",
        "\t\t\tbackground-image:url({{url_for('static',filename=\"images/neural.gif\")}}); \n",
        "\t\t\tbackground-repeat:no-repeat;\n",
        "\t\t\tbackground-size: contain;\n",
        "\t\t\t\n",
        "\t\t}\n",
        "\t\t.inside{\n",
        "\t\t\t\n",
        "\t\t\tmargin:0px;\n",
        "            top:20%;\n",
        "\t\t\tbottom:20%;\n",
        "\t\t\tleft: 50%;\n",
        "\t\t\tright: 10%;\n",
        "\t\t\tposition: fixed;\n",
        "            align-items:center;\n",
        "            justify-content:center;\n",
        "\t\t\tpadding-left: 40px;\n",
        "\t\t\tpadding-top:40px;\n",
        "\t\t\tpadding-right:40px;\n",
        "            box-shadow:10px 10px 10px rgba(0,0,0,.05)\n",
        "\t\t\tfont-family:Georgia, serif;\n",
        "\t\t\tcolor:white;\n",
        "\t\t\tfont-size:20px;\n",
        "\t\t\ttext-align:justify;\n",
        "\n",
        "\t\t\tbackground-color:#5691e3;\n",
        "            border-radius: 5%;\n",
        "\t\t}\n",
        "\t\t.myButton{border-radius: 5%\n",
        "\t\t\t  border: none;\n",
        "\t\t\t  text-align: center;\n",
        "\t\t\t  cursor: pointer;\n",
        "\t\t\t  text-transform: uppercase;\n",
        "\t\t\t  outline: none;\n",
        "\t\t\t  overflow: hidden;\n",
        "\t\t\t  color: #000;\n",
        "\t\t\t  font-weight: 700;\n",
        "\t\t\t  font-size: 12px;\n",
        "\t\t\t  background-color: #878787;\n",
        "\t\t\t  padding: 10px 15px;\n",
        "\t\t\t  margin: 0 auto;\n",
        "\t\t\t  box-shadow: 0 5px 15px rgba(0,0,0,0.20);\n",
        "             width:300px \n",
        "\t\t}\n",
        "        \n",
        ".myButton:hover {\n",
        "  animation: bn54rotate 0.7s ease-in-out both;\n",
        "}\n",
        "\n",
        "@keyframes bn54rotate {\n",
        "  0% {\n",
        "    transform: rotate(0deg) translate3d(0, 0, 0);\n",
        "  }\n",
        "  25% {\n",
        "    transform: rotate(3deg) translate3d(0, 0, 0);\n",
        "  }\n",
        "  50% {\n",
        "    transform: rotate(-3deg) translate3d(0, 0, 0);\n",
        "  }\n",
        "  75% {\n",
        "    transform: rotate(1deg) translate3d(0, 0, 0);\n",
        "  }\n",
        "  100% {\n",
        "    transform: rotate(0deg) translate3d(0, 0, 0);\n",
        "  }\n",
        "}\n",
        "\n",
        "\n",
        "\t</style>\n",
        "\t</head>\n",
        "\t<body>\n",
        "\t\t<div class=\"header\">Brain Tumor Detection using MRI</div>\n",
        "\t\t<div class=\"second\">\n",
        "\t\t\t<div class=\"inside\">Brain tumor identification is really challenging task in early stages of life. These days issue of brain tumor automatic identification is of great interest. Tumor is the unusual growth of the tissues. A brain tumor is a quantity of unnecessary cells growing in the brain or central spine canal.  It is an unrestrained progress of cancer cells in any portion of the body. In Order to detect the brain tumor of a patient, MRI images of a patient’s brain are considered. This application helps you detect the tumor and store the patient's data.\n",
        "\t\t<br><br><br>\n",
        "\t\t<div style=\"margin-left:30%\">\n",
        "\t\t<a href=\"{{url_for('predict1')}}\"><button type=\"button\" class=\"myButton\" >Drop the scan for detection!</button></a>\n",
        "\t\t</div>\n",
        "\t\t</div>\n",
        "\t\t\n",
        "\t\t\n",
        "\t\t</div>\n",
        "\t</body>\n",
        "</html>"
      ],
      "execution_count": 17,
      "outputs": [
        {
          "output_type": "stream",
          "text": [
            "Writing templates/brainintro.html\n"
          ],
          "name": "stdout"
        }
      ]
    },
    {
      "cell_type": "code",
      "metadata": {
        "colab": {
          "base_uri": "https://localhost:8080/"
        },
        "id": "Mo7O7TzC8tqD",
        "outputId": "5f9a6905-fadd-49a8-d636-4e4567e88f5c"
      },
      "source": [
        "\n",
        "  \n",
        "import numpy as np\n",
        "import os\n",
        "from keras.preprocessing import image \n",
        "import pandas as pd\n",
        "import cv2\n",
        "import tensorflow as tf\n",
        "# Flask utils\n",
        "from flask import Flask,request, render_template\n",
        "from werkzeug.utils import secure_filename\n",
        "from tensorflow.python.keras.backend import set_session\n",
        "from tensorflow.python.keras.models import load_model\n",
        "\n",
        "\n",
        "\n",
        "# Define a flask app\n",
        "app = Flask(__name__)\n",
        "run_with_ngrok(app)\n",
        "# Load your trained model\n",
        "model = load_model('braintumor.h5')\n",
        "\n",
        "@app.route('/', methods=['GET'])\n",
        "def index():\n",
        "    # Main page\n",
        "    return render_template('brainintro.html')\n",
        "\n",
        "@app.route('/predict1', methods=['GET'])\n",
        "def predict1():\n",
        "    # Main page\n",
        "    return render_template('brainpred2.html')\n",
        "\n",
        "\n",
        "@app.route('/predict', methods=['GET', 'POST'])\n",
        "def upload():\n",
        "    if request.method == 'POST':\n",
        "        # Get the file from post request\n",
        "        df= pd.read_csv('patient.csv')\n",
        "        f = request.files['image']\n",
        "        name=request.form['name']\n",
        "        age=request.form['age']\n",
        "        \n",
        "        # Save the file to ./uploads\n",
        "        basepath = os.path.dirname('/content')\n",
        "        file_path = os.path.join(\n",
        "            basepath, '/content/uploads', secure_filename(f.filename))\n",
        "        f.save(file_path)\n",
        "        img = image.load_img(file_path, target_size=(64, 64))\n",
        "        x = image.img_to_array(img)\n",
        "        x = np.expand_dims(x, axis=0)\n",
        "        \n",
        "        \n",
        "        prediction = model.predict_classes(x)[0][0]\n",
        "        print(prediction)\n",
        "        if prediction==0:\n",
        "            text = \"You are perfectly fine\"\n",
        "            inp = \"No tumor\"\n",
        "        else:\n",
        "            text = \"You are infected! Please Consult Doctor\"\n",
        "            inp=\"Tumor detected\"\n",
        "\n",
        "        df=df.append(pd.DataFrame({'name':[name],'age':[age],'status':[inp]}),ignore_index=True)\n",
        "        df.to_csv('patient.csv',index = False)\n",
        "        return text\n",
        "\n",
        "if __name__ == '__main__':\n",
        "    app.run()"
      ],
      "execution_count": 29,
      "outputs": [
        {
          "output_type": "stream",
          "text": [
            " * Serving Flask app \"__main__\" (lazy loading)\n",
            " * Environment: production\n",
            "\u001b[31m   WARNING: This is a development server. Do not use it in a production deployment.\u001b[0m\n",
            "\u001b[2m   Use a production WSGI server instead.\u001b[0m\n",
            " * Debug mode: off\n"
          ],
          "name": "stdout"
        },
        {
          "output_type": "stream",
          "text": [
            " * Running on http://127.0.0.1:5000/ (Press CTRL+C to quit)\n"
          ],
          "name": "stderr"
        },
        {
          "output_type": "stream",
          "text": [
            " * Running on http://3a85f26ce9c8.ngrok.io\n",
            " * Traffic stats available on http://127.0.0.1:4040\n"
          ],
          "name": "stdout"
        },
        {
          "output_type": "stream",
          "text": [
            "127.0.0.1 - - [30/May/2021 01:33:00] \"\u001b[37mGET / HTTP/1.1\u001b[0m\" 200 -\n",
            "127.0.0.1 - - [30/May/2021 01:33:02] \"\u001b[37mGET / HTTP/1.1\u001b[0m\" 200 -\n",
            "127.0.0.1 - - [30/May/2021 01:33:03] \"\u001b[37mGET /static/images/neural.gif HTTP/1.1\u001b[0m\" 200 -\n",
            "127.0.0.1 - - [30/May/2021 01:33:03] \"\u001b[37mGET /static/images/neural.gif HTTP/1.1\u001b[0m\" 200 -\n",
            "127.0.0.1 - - [30/May/2021 01:33:07] \"\u001b[37mGET /predict1 HTTP/1.1\u001b[0m\" 200 -\n",
            "127.0.0.1 - - [30/May/2021 01:33:08] \"\u001b[37mGET /static/css/main2.css HTTP/1.1\u001b[0m\" 200 -\n",
            "127.0.0.1 - - [30/May/2021 01:33:08] \"\u001b[37mGET /predict1 HTTP/1.1\u001b[0m\" 200 -\n",
            "127.0.0.1 - - [30/May/2021 01:33:10] \"\u001b[37mGET /static/css/main2.css HTTP/1.1\u001b[0m\" 200 -\n",
            "127.0.0.1 - - [30/May/2021 01:33:12] \"\u001b[37mGET /predict1 HTTP/1.1\u001b[0m\" 200 -\n",
            "127.0.0.1 - - [30/May/2021 01:33:12] \"\u001b[37mGET /static/js/main.js HTTP/1.1\u001b[0m\" 200 -\n",
            "127.0.0.1 - - [30/May/2021 01:33:12] \"\u001b[37mGET /static/images/neural.gif HTTP/1.1\u001b[0m\" 206 -\n",
            "127.0.0.1 - - [30/May/2021 01:33:13] \"\u001b[37mGET /static/images/neural.gif HTTP/1.1\u001b[0m\" 206 -\n",
            "127.0.0.1 - - [30/May/2021 01:33:19] \"\u001b[33mGET /favicon.ico HTTP/1.1\u001b[0m\" 404 -\n"
          ],
          "name": "stderr"
        },
        {
          "output_type": "stream",
          "text": [
            "WARNING:tensorflow:6 out of the last 6 calls to <function Model.make_predict_function.<locals>.predict_function at 0x7f21559a1d40> triggered tf.function retracing. Tracing is expensive and the excessive number of tracings could be due to (1) creating @tf.function repeatedly in a loop, (2) passing tensors with different shapes, (3) passing Python objects instead of tensors. For (1), please define your @tf.function outside of the loop. For (2), @tf.function has experimental_relax_shapes=True option that relaxes argument shapes that can avoid unnecessary retracing. For (3), please refer to https://www.tensorflow.org/guide/function#controlling_retracing and https://www.tensorflow.org/api_docs/python/tf/function for  more details.\n"
          ],
          "name": "stdout"
        },
        {
          "output_type": "stream",
          "text": [
            "/usr/local/lib/python3.7/dist-packages/tensorflow/python/keras/engine/sequential.py:455: UserWarning: `model.predict_classes()` is deprecated and will be removed after 2021-01-01. Please use instead:* `np.argmax(model.predict(x), axis=-1)`,   if your model does multi-class classification   (e.g. if it uses a `softmax` last-layer activation).* `(model.predict(x) > 0.5).astype(\"int32\")`,   if your model does binary classification   (e.g. if it uses a `sigmoid` last-layer activation).\n",
            "  warnings.warn('`model.predict_classes()` is deprecated and '\n",
            "127.0.0.1 - - [30/May/2021 01:33:29] \"\u001b[37mPOST /predict HTTP/1.1\u001b[0m\" 200 -\n"
          ],
          "name": "stderr"
        },
        {
          "output_type": "stream",
          "text": [
            "1\n"
          ],
          "name": "stdout"
        }
      ]
    },
    {
      "cell_type": "code",
      "metadata": {
        "id": "8eNlAqq0SSsY"
      },
      "source": [
        ""
      ],
      "execution_count": null,
      "outputs": []
    }
  ]
}